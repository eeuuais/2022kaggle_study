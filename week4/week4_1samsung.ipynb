{
 "cells": [
  {
   "cell_type": "code",
   "execution_count": 2,
   "id": "b0115508",
   "metadata": {
    "scrolled": true
   },
   "outputs": [
    {
     "name": "stdout",
     "output_type": "stream",
     "text": [
      "Collecting keras\n",
      "  Downloading keras-2.8.0-py2.py3-none-any.whl (1.4 MB)\n",
      "Installing collected packages: keras\n",
      "Successfully installed keras-2.8.0\n",
      "Note: you may need to restart the kernel to use updated packages.\n"
     ]
    }
   ],
   "source": [
    "pip install keras"
   ]
  },
  {
   "cell_type": "code",
   "execution_count": 5,
   "id": "ab0969c6",
   "metadata": {},
   "outputs": [
    {
     "name": "stdout",
     "output_type": "stream",
     "text": [
      "Collecting tensorflow\n",
      "  Downloading tensorflow-2.8.0-cp39-cp39-win_amd64.whl (438.0 MB)\n",
      "Requirement already satisfied: typing-extensions>=3.6.6 in c:\\users\\sienna\\anaconda3\\lib\\site-packages (from tensorflow) (3.10.0.2)\n",
      "Requirement already satisfied: setuptools in c:\\users\\sienna\\anaconda3\\lib\\site-packages (from tensorflow) (58.0.4)\n",
      "Collecting opt-einsum>=2.3.2\n",
      "  Downloading opt_einsum-3.3.0-py3-none-any.whl (65 kB)\n",
      "Collecting gast>=0.2.1\n",
      "  Downloading gast-0.5.3-py3-none-any.whl (19 kB)\n",
      "Collecting termcolor>=1.1.0\n",
      "  Downloading termcolor-1.1.0.tar.gz (3.9 kB)\n",
      "Collecting tensorboard<2.9,>=2.8\n",
      "  Downloading tensorboard-2.8.0-py3-none-any.whl (5.8 MB)\n",
      "Collecting astunparse>=1.6.0\n",
      "  Downloading astunparse-1.6.3-py2.py3-none-any.whl (12 kB)\n",
      "Requirement already satisfied: h5py>=2.9.0 in c:\\users\\sienna\\anaconda3\\lib\\site-packages (from tensorflow) (3.2.1)\n",
      "Collecting protobuf>=3.9.2\n",
      "  Downloading protobuf-3.19.4-cp39-cp39-win_amd64.whl (895 kB)\n",
      "Collecting google-pasta>=0.1.1\n",
      "  Downloading google_pasta-0.2.0-py3-none-any.whl (57 kB)\n",
      "Collecting flatbuffers>=1.12\n",
      "  Downloading flatbuffers-2.0-py2.py3-none-any.whl (26 kB)\n",
      "Collecting tf-estimator-nightly==2.8.0.dev2021122109\n",
      "  Downloading tf_estimator_nightly-2.8.0.dev2021122109-py2.py3-none-any.whl (462 kB)\n",
      "Requirement already satisfied: numpy>=1.20 in c:\\users\\sienna\\anaconda3\\lib\\site-packages (from tensorflow) (1.20.3)\n",
      "Collecting grpcio<2.0,>=1.24.3\n",
      "  Downloading grpcio-1.43.0-cp39-cp39-win_amd64.whl (3.4 MB)\n",
      "Collecting absl-py>=0.4.0\n",
      "  Downloading absl_py-1.0.0-py3-none-any.whl (126 kB)\n",
      "Collecting keras-preprocessing>=1.1.1\n",
      "  Downloading Keras_Preprocessing-1.1.2-py2.py3-none-any.whl (42 kB)\n",
      "Collecting tensorflow-io-gcs-filesystem>=0.23.1\n",
      "  Downloading tensorflow_io_gcs_filesystem-0.24.0-cp39-cp39-win_amd64.whl (1.5 MB)\n",
      "Collecting libclang>=9.0.1\n",
      "  Downloading libclang-13.0.0-py2.py3-none-win_amd64.whl (13.9 MB)\n",
      "Requirement already satisfied: keras<2.9,>=2.8.0rc0 in c:\\users\\sienna\\anaconda3\\lib\\site-packages (from tensorflow) (2.8.0)\n",
      "Requirement already satisfied: wrapt>=1.11.0 in c:\\users\\sienna\\anaconda3\\lib\\site-packages (from tensorflow) (1.12.1)\n",
      "Requirement already satisfied: six>=1.12.0 in c:\\users\\sienna\\anaconda3\\lib\\site-packages (from tensorflow) (1.16.0)\n",
      "Requirement already satisfied: wheel<1.0,>=0.23.0 in c:\\users\\sienna\\anaconda3\\lib\\site-packages (from astunparse>=1.6.0->tensorflow) (0.37.0)\n",
      "Collecting tensorboard-plugin-wit>=1.6.0\n",
      "  Downloading tensorboard_plugin_wit-1.8.1-py3-none-any.whl (781 kB)\n",
      "Requirement already satisfied: werkzeug>=0.11.15 in c:\\users\\sienna\\anaconda3\\lib\\site-packages (from tensorboard<2.9,>=2.8->tensorflow) (2.0.2)\n",
      "Collecting google-auth-oauthlib<0.5,>=0.4.1\n",
      "  Downloading google_auth_oauthlib-0.4.6-py2.py3-none-any.whl (18 kB)\n",
      "Collecting tensorboard-data-server<0.7.0,>=0.6.0\n",
      "  Downloading tensorboard_data_server-0.6.1-py3-none-any.whl (2.4 kB)\n",
      "Collecting google-auth<3,>=1.6.3\n",
      "  Downloading google_auth-2.6.0-py2.py3-none-any.whl (156 kB)\n",
      "Collecting markdown>=2.6.8\n",
      "  Downloading Markdown-3.3.6-py3-none-any.whl (97 kB)\n",
      "Requirement already satisfied: requests<3,>=2.21.0 in c:\\users\\sienna\\anaconda3\\lib\\site-packages (from tensorboard<2.9,>=2.8->tensorflow) (2.26.0)\n",
      "Collecting pyasn1-modules>=0.2.1\n",
      "  Downloading pyasn1_modules-0.2.8-py2.py3-none-any.whl (155 kB)\n",
      "Collecting rsa<5,>=3.1.4\n",
      "  Downloading rsa-4.8-py3-none-any.whl (39 kB)\n",
      "Collecting cachetools<6.0,>=2.0.0\n",
      "  Downloading cachetools-5.0.0-py3-none-any.whl (9.1 kB)\n",
      "Collecting requests-oauthlib>=0.7.0\n",
      "  Downloading requests_oauthlib-1.3.1-py2.py3-none-any.whl (23 kB)\n",
      "Requirement already satisfied: importlib-metadata>=4.4 in c:\\users\\sienna\\anaconda3\\lib\\site-packages (from markdown>=2.6.8->tensorboard<2.9,>=2.8->tensorflow) (4.8.1)\n",
      "Requirement already satisfied: zipp>=0.5 in c:\\users\\sienna\\anaconda3\\lib\\site-packages (from importlib-metadata>=4.4->markdown>=2.6.8->tensorboard<2.9,>=2.8->tensorflow) (3.6.0)\n",
      "Collecting pyasn1<0.5.0,>=0.4.6\n",
      "  Downloading pyasn1-0.4.8-py2.py3-none-any.whl (77 kB)\n",
      "Requirement already satisfied: charset-normalizer~=2.0.0 in c:\\users\\sienna\\anaconda3\\lib\\site-packages (from requests<3,>=2.21.0->tensorboard<2.9,>=2.8->tensorflow) (2.0.4)\n",
      "Requirement already satisfied: urllib3<1.27,>=1.21.1 in c:\\users\\sienna\\anaconda3\\lib\\site-packages (from requests<3,>=2.21.0->tensorboard<2.9,>=2.8->tensorflow) (1.26.7)\n",
      "Requirement already satisfied: idna<4,>=2.5 in c:\\users\\sienna\\anaconda3\\lib\\site-packages (from requests<3,>=2.21.0->tensorboard<2.9,>=2.8->tensorflow) (3.2)\n",
      "Requirement already satisfied: certifi>=2017.4.17 in c:\\users\\sienna\\anaconda3\\lib\\site-packages (from requests<3,>=2.21.0->tensorboard<2.9,>=2.8->tensorflow) (2021.10.8)\n",
      "Collecting oauthlib>=3.0.0\n",
      "  Downloading oauthlib-3.2.0-py3-none-any.whl (151 kB)\n",
      "Building wheels for collected packages: termcolor\n",
      "  Building wheel for termcolor (setup.py): started\n",
      "  Building wheel for termcolor (setup.py): finished with status 'done'\n",
      "  Created wheel for termcolor: filename=termcolor-1.1.0-py3-none-any.whl size=4847 sha256=2989381438b170b7b62f2b1707776e51720e2801d04d1cc8a375b152e1501be7\n",
      "  Stored in directory: c:\\users\\sienna\\appdata\\local\\pip\\cache\\wheels\\b6\\0d\\90\\0d1bbd99855f99cb2f6c2e5ff96f8023fad8ec367695f7d72d\n",
      "Successfully built termcolor\n",
      "Installing collected packages: pyasn1, rsa, pyasn1-modules, oauthlib, cachetools, requests-oauthlib, google-auth, tensorboard-plugin-wit, tensorboard-data-server, protobuf, markdown, grpcio, google-auth-oauthlib, absl-py, tf-estimator-nightly, termcolor, tensorflow-io-gcs-filesystem, tensorboard, opt-einsum, libclang, keras-preprocessing, google-pasta, gast, flatbuffers, astunparse, tensorflow\n",
      "Successfully installed absl-py-1.0.0 astunparse-1.6.3 cachetools-5.0.0 flatbuffers-2.0 gast-0.5.3 google-auth-2.6.0 google-auth-oauthlib-0.4.6 google-pasta-0.2.0 grpcio-1.43.0 keras-preprocessing-1.1.2 libclang-13.0.0 markdown-3.3.6 oauthlib-3.2.0 opt-einsum-3.3.0 protobuf-3.19.4 pyasn1-0.4.8 pyasn1-modules-0.2.8 requests-oauthlib-1.3.1 rsa-4.8 tensorboard-2.8.0 tensorboard-data-server-0.6.1 tensorboard-plugin-wit-1.8.1 tensorflow-2.8.0 tensorflow-io-gcs-filesystem-0.24.0 termcolor-1.1.0 tf-estimator-nightly-2.8.0.dev2021122109\n",
      "Note: you may need to restart the kernel to use updated packages.\n"
     ]
    }
   ],
   "source": [
    "pip install tensorflow"
   ]
  },
  {
   "cell_type": "markdown",
   "id": "765ad64e",
   "metadata": {},
   "source": [
    "# week 4 삼성전자 주식, 이더리움 시세 인공지능으로 예측해보기"
   ]
  },
  {
   "cell_type": "markdown",
   "id": "4f5d9458",
   "metadata": {},
   "source": [
    "### LSTM(Long Short Term Memory)\n",
    "1) 인공지능 모델이 기억을 가지고 있다.<br>\n",
    "2) 이전 데이터를 가지고 이후의 데이터를 예측하는 인공지능 모델<br>\n",
    "예) 최근 50일 간의 주식가격 데이터를 바탕으로 내일 주식가격을 예측<br><br>\n",
    "3) 인공지능이 기억력을 가지고 예측할 수 있다는 것이 장점<br>\n",
    "예) 주식가격, 암호화폐 예측"
   ]
  },
  {
   "cell_type": "code",
   "execution_count": 1,
   "id": "7ee06353",
   "metadata": {},
   "outputs": [],
   "source": [
    "import pandas as pd\n",
    "import numpy as np\n",
    "import matplotlib.pyplot as plt\n",
    "from keras.models import Sequential\n",
    "from keras.layers import LSTM, Dropout, Dense, Activation\n",
    "\n",
    "from keras.callbacks import TensorBoard, ModelCheckpoint, ReduceLROnPlateau\n",
    "import datetime"
   ]
  },
  {
   "cell_type": "markdown",
   "id": "6809f790",
   "metadata": {},
   "source": [
    "# Load Dataset\n",
    "\n",
    "- Dataset<br>\n",
    "Yahoo Finance: https://finance.yahoo.com<br>\n",
    "Samsung Electronics Co., Ltd. (005930.KS)<br>\n",
    "Historical Data > Time Period - 5Y(5년) > Download Data"
   ]
  },
  {
   "cell_type": "code",
   "execution_count": 8,
   "id": "e608ec8d",
   "metadata": {},
   "outputs": [
    {
     "data": {
      "text/html": [
       "<div>\n",
       "<style scoped>\n",
       "    .dataframe tbody tr th:only-of-type {\n",
       "        vertical-align: middle;\n",
       "    }\n",
       "\n",
       "    .dataframe tbody tr th {\n",
       "        vertical-align: top;\n",
       "    }\n",
       "\n",
       "    .dataframe thead th {\n",
       "        text-align: right;\n",
       "    }\n",
       "</style>\n",
       "<table border=\"1\" class=\"dataframe\">\n",
       "  <thead>\n",
       "    <tr style=\"text-align: right;\">\n",
       "      <th></th>\n",
       "      <th>Date</th>\n",
       "      <th>Open</th>\n",
       "      <th>High</th>\n",
       "      <th>Low</th>\n",
       "      <th>Close</th>\n",
       "      <th>Adj Close</th>\n",
       "      <th>Volume</th>\n",
       "    </tr>\n",
       "  </thead>\n",
       "  <tbody>\n",
       "    <tr>\n",
       "      <th>0</th>\n",
       "      <td>2017-02-07</td>\n",
       "      <td>39560.0</td>\n",
       "      <td>39580.0</td>\n",
       "      <td>38760.0</td>\n",
       "      <td>38820.0</td>\n",
       "      <td>33687.878906</td>\n",
       "      <td>14041800</td>\n",
       "    </tr>\n",
       "    <tr>\n",
       "      <th>1</th>\n",
       "      <td>2017-02-08</td>\n",
       "      <td>38740.0</td>\n",
       "      <td>38780.0</td>\n",
       "      <td>38200.0</td>\n",
       "      <td>38400.0</td>\n",
       "      <td>33323.406250</td>\n",
       "      <td>17092950</td>\n",
       "    </tr>\n",
       "    <tr>\n",
       "      <th>2</th>\n",
       "      <td>2017-02-09</td>\n",
       "      <td>38780.0</td>\n",
       "      <td>38840.0</td>\n",
       "      <td>38220.0</td>\n",
       "      <td>38400.0</td>\n",
       "      <td>33323.406250</td>\n",
       "      <td>13694150</td>\n",
       "    </tr>\n",
       "    <tr>\n",
       "      <th>3</th>\n",
       "      <td>2017-02-10</td>\n",
       "      <td>38400.0</td>\n",
       "      <td>38760.0</td>\n",
       "      <td>38300.0</td>\n",
       "      <td>38360.0</td>\n",
       "      <td>33288.695313</td>\n",
       "      <td>11020750</td>\n",
       "    </tr>\n",
       "    <tr>\n",
       "      <th>4</th>\n",
       "      <td>2017-02-13</td>\n",
       "      <td>37740.0</td>\n",
       "      <td>38060.0</td>\n",
       "      <td>37720.0</td>\n",
       "      <td>37960.0</td>\n",
       "      <td>32941.574219</td>\n",
       "      <td>11102050</td>\n",
       "    </tr>\n",
       "  </tbody>\n",
       "</table>\n",
       "</div>"
      ],
      "text/plain": [
       "         Date     Open     High      Low    Close     Adj Close    Volume\n",
       "0  2017-02-07  39560.0  39580.0  38760.0  38820.0  33687.878906  14041800\n",
       "1  2017-02-08  38740.0  38780.0  38200.0  38400.0  33323.406250  17092950\n",
       "2  2017-02-09  38780.0  38840.0  38220.0  38400.0  33323.406250  13694150\n",
       "3  2017-02-10  38400.0  38760.0  38300.0  38360.0  33288.695313  11020750\n",
       "4  2017-02-13  37740.0  38060.0  37720.0  37960.0  32941.574219  11102050"
      ]
     },
     "execution_count": 8,
     "metadata": {},
     "output_type": "execute_result"
    }
   ],
   "source": [
    "data = pd.read_csv('dataset/005930.KS.csv')\n",
    "data.head()"
   ]
  },
  {
   "cell_type": "markdown",
   "id": "7ae22328",
   "metadata": {},
   "source": [
    "# Compute Mid Price"
   ]
  },
  {
   "cell_type": "code",
   "execution_count": 9,
   "id": "f91d108c",
   "metadata": {},
   "outputs": [],
   "source": [
    "high_prices = data['High'].values\n",
    "low_prices = data['Low'].values\n",
    "mid_prices = (high_prices + low_prices) / 2        # 중간값을 mid_prices에 저장"
   ]
  },
  {
   "cell_type": "markdown",
   "id": "59eb34d4",
   "metadata": {},
   "source": [
    "# Create Windows"
   ]
  },
  {
   "cell_type": "code",
   "execution_count": 10,
   "id": "360a9807",
   "metadata": {},
   "outputs": [],
   "source": [
    "#최근 50일 간의 데이터를 보고 내일 데이터를 예측한다\n",
    "\n",
    "seq_len = 50                    # window 사이즈 지정 (최근 몇 일의 데이터를 볼 것인가)\n",
    "sequence_length =  seq_len + 1  # 예측값 하나를 더하여 총 51개가 되도록 한다\n",
    "\n",
    "result = []                     # 한 칸씩 밀려가면서 리스트에 저장\n",
    "for index in range(len(mid_prices) - sequence_length):\n",
    "    result.append(mid_prices[index: index + sequence_length])"
   ]
  },
  {
   "cell_type": "markdown",
   "id": "bd739f3e",
   "metadata": {},
   "source": [
    "![window1](img/window1.png)"
   ]
  },
  {
   "cell_type": "markdown",
   "id": "e644791e",
   "metadata": {},
   "source": [
    "window에 들어가는 데이터 갯수는 총 51개 (50일간의 데이터+예측할 값 1)"
   ]
  },
  {
   "cell_type": "markdown",
   "id": "60c02a4b",
   "metadata": {},
   "source": [
    "![window2](img/window2.png)"
   ]
  },
  {
   "cell_type": "markdown",
   "id": "07f17c8b",
   "metadata": {},
   "source": [
    "그 다음 window는 한 칸씩 밀려나면서 생성<br>\n",
    "1) 빨간네모 : 첫 번째 window<br>\n",
    "2) 노란네모 : 두 번째 window<br>\n",
    "3) 초록네모 : 세 번째 window<br>"
   ]
  },
  {
   "cell_type": "markdown",
   "id": "c4766496",
   "metadata": {},
   "source": [
    "# Normalize Data"
   ]
  },
  {
   "cell_type": "code",
   "execution_count": 11,
   "id": "938816cb",
   "metadata": {},
   "outputs": [
    {
     "data": {
      "text/plain": [
       "((1057, 50, 1), (117, 50, 1))"
      ]
     },
     "execution_count": 11,
     "metadata": {},
     "output_type": "execute_result"
    }
   ],
   "source": [
    "# 정규화 : window의 값들을 싹 훑으면서 각 값의 첫 번째 값을 나눠준 다음 1을 뺀다.\n",
    "\n",
    "normalized_data = []\n",
    "for window in result:\n",
    "    normalized_window = [((float(p) / float(window[0])) - 1) for p in window]\n",
    "    normalized_data.append(normalized_window)\n",
    "    \n",
    "result = np.array(normalized_data)\n",
    "\n",
    "\n",
    "\n",
    "# split train and test data (9:1)\n",
    "row = int(round(result.shape[0] * 0.9))\n",
    "train = result[:row, :]\n",
    "np.random.shuffle(train)    # 배열의 값을 랜덤으로 섞는다\n",
    "\n",
    "x_train = train[:, :-1]     # x_train에 50개의 데이터\n",
    "x_train = np.reshape(x_train, (x_train.shape[0], x_train.shape[1], 1))\n",
    "y_train = train[:, -1]      # y_train에 1개의 데이터\n",
    "\n",
    "x_test = result[row:, :-1]  # x_test에 50개의 데이터\n",
    "x_test = np.reshape(x_test, (x_test.shape[0], x_test.shape[1], 1))\n",
    "y_test = result[row:, -1]   # y_test에 1개의 데이터\n",
    "\n",
    "x_train.shape, x_test.shape"
   ]
  },
  {
   "cell_type": "markdown",
   "id": "df2f51a3",
   "metadata": {},
   "source": [
    "1057개의 trainig set, 117개의 test set<br>\n",
    "→ 1057일의 데이터를 가지고 학습해서 117일의 주식 가격을 예측 할 것이다"
   ]
  },
  {
   "cell_type": "markdown",
   "id": "efc51719",
   "metadata": {},
   "source": [
    "# Build a Model"
   ]
  },
  {
   "cell_type": "code",
   "execution_count": 12,
   "id": "1dfb7366",
   "metadata": {},
   "outputs": [
    {
     "name": "stdout",
     "output_type": "stream",
     "text": [
      "Model: \"sequential_1\"\n",
      "_________________________________________________________________\n",
      " Layer (type)                Output Shape              Param #   \n",
      "=================================================================\n",
      " lstm_2 (LSTM)               (None, 50, 50)            10400     \n",
      "                                                                 \n",
      " lstm_3 (LSTM)               (None, 64)                29440     \n",
      "                                                                 \n",
      " dense_1 (Dense)             (None, 1)                 65        \n",
      "                                                                 \n",
      "=================================================================\n",
      "Total params: 39,905\n",
      "Trainable params: 39,905\n",
      "Non-trainable params: 0\n",
      "_________________________________________________________________\n"
     ]
    }
   ],
   "source": [
    "model = Sequential()    # 모델을 순차적으로 정의하는 클래스\n",
    "\n",
    "model.add(LSTM(50, return_sequences=True, input_shape=(50, 1)))    # LSTM 레이어\n",
    "\n",
    "model.add(LSTM(64, return_sequences=False))    # model.add() 모델에 레이어를 추가한다\n",
    "\n",
    "model.add(Dense(1, activation='linear'))        # fully connected layer\n",
    "\n",
    "model.compile(loss='mse', optimizer='rmsprop')  # mse = Mean Squared Error\n",
    "\n",
    "model.summary()                                 # 모델의 개요를 출력한다"
   ]
  },
  {
   "cell_type": "markdown",
   "id": "a9541711",
   "metadata": {},
   "source": [
    "# Training"
   ]
  },
  {
   "cell_type": "code",
   "execution_count": 13,
   "id": "fd66bd91",
   "metadata": {},
   "outputs": [
    {
     "name": "stdout",
     "output_type": "stream",
     "text": [
      "Epoch 1/20\n",
      "106/106 [==============================] - 12s 60ms/step - loss: 0.0020 - val_loss: 6.7784e-04\n",
      "Epoch 2/20\n",
      "106/106 [==============================] - 5s 48ms/step - loss: 0.0010 - val_loss: 5.2472e-04\n",
      "Epoch 3/20\n",
      "106/106 [==============================] - 5s 48ms/step - loss: 7.5448e-04 - val_loss: 3.2477e-04\n",
      "Epoch 4/20\n",
      "106/106 [==============================] - 5s 48ms/step - loss: 5.6964e-04 - val_loss: 4.1008e-04\n",
      "Epoch 5/20\n",
      "106/106 [==============================] - 5s 48ms/step - loss: 5.2631e-04 - val_loss: 2.0638e-04\n",
      "Epoch 6/20\n",
      "106/106 [==============================] - 5s 48ms/step - loss: 3.9018e-04 - val_loss: 1.9208e-04\n",
      "Epoch 7/20\n",
      "106/106 [==============================] - 5s 48ms/step - loss: 3.6649e-04 - val_loss: 1.6203e-04\n",
      "Epoch 8/20\n",
      "106/106 [==============================] - 5s 48ms/step - loss: 3.4274e-04 - val_loss: 1.7087e-04\n",
      "Epoch 9/20\n",
      "106/106 [==============================] - 5s 47ms/step - loss: 3.1125e-04 - val_loss: 1.2658e-04\n",
      "Epoch 10/20\n",
      "106/106 [==============================] - 5s 48ms/step - loss: 2.9751e-04 - val_loss: 2.1434e-04\n",
      "Epoch 11/20\n",
      "106/106 [==============================] - 5s 48ms/step - loss: 3.0153e-04 - val_loss: 1.3669e-04\n",
      "Epoch 12/20\n",
      "106/106 [==============================] - 5s 47ms/step - loss: 3.1051e-04 - val_loss: 3.0042e-04\n",
      "Epoch 13/20\n",
      "106/106 [==============================] - 5s 48ms/step - loss: 2.8893e-04 - val_loss: 2.6813e-04\n",
      "Epoch 14/20\n",
      "106/106 [==============================] - 5s 48ms/step - loss: 3.0264e-04 - val_loss: 1.8760e-04\n",
      "Epoch 15/20\n",
      "106/106 [==============================] - 5s 47ms/step - loss: 2.9988e-04 - val_loss: 1.4486e-04\n",
      "Epoch 16/20\n",
      "106/106 [==============================] - 5s 47ms/step - loss: 2.9531e-04 - val_loss: 1.4226e-04\n",
      "Epoch 17/20\n",
      "106/106 [==============================] - 5s 48ms/step - loss: 2.8158e-04 - val_loss: 1.8476e-04\n",
      "Epoch 18/20\n",
      "106/106 [==============================] - 5s 48ms/step - loss: 2.9921e-04 - val_loss: 1.3953e-04\n",
      "Epoch 19/20\n",
      "106/106 [==============================] - 5s 46ms/step - loss: 2.8134e-04 - val_loss: 1.2121e-04\n",
      "Epoch 20/20\n",
      "106/106 [==============================] - 5s 48ms/step - loss: 2.8933e-04 - val_loss: 2.0274e-04\n"
     ]
    },
    {
     "data": {
      "text/plain": [
       "<keras.callbacks.History at 0x22810a71f40>"
      ]
     },
     "execution_count": 13,
     "metadata": {},
     "output_type": "execute_result"
    }
   ],
   "source": [
    "# 모델을 학습시킨다\n",
    "model.fit(x_train, y_train,\n",
    "    validation_data=(x_test, y_test),\n",
    "    batch_size=10,\n",
    "    epochs=20)"
   ]
  },
  {
   "cell_type": "markdown",
   "id": "237a37dc",
   "metadata": {},
   "source": [
    "→ val_loss가 작을 수록 학습이 잘 된다는 증거"
   ]
  },
  {
   "cell_type": "markdown",
   "id": "f772c10c",
   "metadata": {},
   "source": [
    "![batch](img/batch.png)"
   ]
  },
  {
   "cell_type": "markdown",
   "id": "d9608b49",
   "metadata": {},
   "source": [
    "batch = 한 번에 몇 개씩 묶어서 학습시킬 거냐<br>\n",
    "epochs = 20번 동안 반복학습"
   ]
  },
  {
   "cell_type": "markdown",
   "id": "4658ad68",
   "metadata": {},
   "source": [
    "# Prediction"
   ]
  },
  {
   "cell_type": "code",
   "execution_count": 14,
   "id": "82226d9f",
   "metadata": {},
   "outputs": [
    {
     "data": {
      "image/png": "[encoded data removed]",
      "text/plain": [
       "<Figure size 1440x720 with 1 Axes>"
      ]
     },
     "metadata": {},
     "output_type": "display_data"
    }
   ],
   "source": [
    "# 모델을 사용하여 test데이터를 예측한다.\n",
    "# 예측한 결과값을 pred 변수에 저장\n",
    "pred = model.predict(x_test)\n",
    "\n",
    "#그래프 그리기\n",
    "fig = plt.figure(facecolor='white', figsize=(20, 10))\n",
    "ax = fig.add_subplot(111)\n",
    "ax.plot(y_test, label='True')\n",
    "ax.plot(pred, label='Prediction')\n",
    "ax.legend()\n",
    "plt.show()"
   ]
  },
  {
   "cell_type": "markdown",
   "id": "13a25e5a",
   "metadata": {},
   "source": [
    "파란색 : 실제 데이터<br>\n",
    "주황색 : 예측 데이터"
   ]
  }
 ],
 "metadata": {
  "kernelspec": {
   "display_name": "Python 3 (ipykernel)",
   "language": "python",
   "name": "python3"
  },
  "language_info": {
   "codemirror_mode": {
    "name": "ipython",
    "version": 3
   },
   "file_extension": ".py",
   "mimetype": "text/x-python",
   "name": "python",
   "nbconvert_exporter": "python",
   "pygments_lexer": "ipython3",
   "version": "3.9.7"
  }
 },
 "nbformat": 4,
 "nbformat_minor": 5
}
